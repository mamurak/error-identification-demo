{
 "cells": [
  {
   "cell_type": "code",
   "execution_count": null,
   "id": "25fc0a44",
   "metadata": {},
   "outputs": [],
   "source": [
    "from src.agentic_rag import get_agentic_rag_client, search_status_for_client"
   ]
  },
  {
   "cell_type": "code",
   "execution_count": null,
   "id": "00586284-f614-4f8a-9d16-9ac6affa40d4",
   "metadata": {},
   "outputs": [],
   "source": [
    "agent = get_agentic_rag_client()"
   ]
  },
  {
   "cell_type": "code",
   "execution_count": null,
   "id": "218a1849-fa75-4a51-9302-7f2de4b375fa",
   "metadata": {},
   "outputs": [],
   "source": [
    "search_status_for_client(agent, 'CUST-391955', 120)"
   ]
  },
  {
   "cell_type": "code",
   "execution_count": null,
   "id": "142e072d-d57d-407e-8196-531c51954d3e",
   "metadata": {},
   "outputs": [],
   "source": [
    "search_status_for_client(agent, 'CUST-257007', 120)"
   ]
  },
  {
   "cell_type": "code",
   "execution_count": null,
   "id": "e4c10a41-b212-4665-b113-ae7d42f6f2d8",
   "metadata": {},
   "outputs": [],
   "source": []
  }
 ],
 "metadata": {
  "kernelspec": {
   "display_name": "Python 3.11",
   "language": "python",
   "name": "python3"
  },
  "language_info": {
   "codemirror_mode": {
    "name": "ipython",
    "version": 3
   },
   "file_extension": ".py",
   "mimetype": "text/x-python",
   "name": "python",
   "nbconvert_exporter": "python",
   "pygments_lexer": "ipython3",
   "version": "3.11.9"
  }
 },
 "nbformat": 4,
 "nbformat_minor": 5
}
